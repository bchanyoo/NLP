{
  "nbformat": 4,
  "nbformat_minor": 0,
  "metadata": {
    "colab": {
      "provenance": [],
      "gpuType": "T4",
      "authorship_tag": "ABX9TyMiMXRBJ7UxF9aLYKycJTXx",
      "include_colab_link": true
    },
    "kernelspec": {
      "name": "python3",
      "display_name": "Python 3"
    },
    "language_info": {
      "name": "python"
    },
    "accelerator": "GPU"
  },
  "cells": [
    {
      "cell_type": "markdown",
      "metadata": {
        "id": "view-in-github",
        "colab_type": "text"
      },
      "source": [
        "<a href=\"https://colab.research.google.com/github/bchanyoo/NLP/blob/main/NLP%20Wikidocs_Word2Vec.ipynb\" target=\"_parent\"><img src=\"https://colab.research.google.com/assets/colab-badge.svg\" alt=\"Open In Colab\"/></a>"
      ]
    },
    {
      "cell_type": "code",
      "execution_count": 9,
      "metadata": {
        "id": "R43ckGfoYP3N",
        "colab": {
          "base_uri": "https://localhost:8080/"
        },
        "outputId": "a8e85097-b419-46d5-871b-b3d3c16f3765"
      },
      "outputs": [
        {
          "output_type": "stream",
          "name": "stderr",
          "text": [
            "[nltk_data] Downloading package punkt to /root/nltk_data...\n",
            "[nltk_data]   Package punkt is already up-to-date!\n"
          ]
        },
        {
          "output_type": "execute_result",
          "data": {
            "text/plain": [
              "True"
            ]
          },
          "metadata": {},
          "execution_count": 9
        }
      ],
      "source": [
        "import re\n",
        "import urllib.request\n",
        "import zipfile\n",
        "from lxml import etree\n",
        "from nltk.tokenize import word_tokenize, sent_tokenize\n",
        "import nltk\n",
        "nltk.download('punkt')"
      ]
    },
    {
      "cell_type": "code",
      "source": [
        "urllib.request.urlretrieve(\"https://raw.githubusercontent.com/ukairia777/tensorflow-nlp-tutorial/main/09.%20Word%20Embedding/dataset/ted_en-20160408.xml\", filename=\"ted_en-20160408.xml\")"
      ],
      "metadata": {
        "colab": {
          "base_uri": "https://localhost:8080/"
        },
        "id": "q7EDh1QwbMrJ",
        "outputId": "39b448fd-7ca4-4a3a-cb73-016ec753b9bd"
      },
      "execution_count": 10,
      "outputs": [
        {
          "output_type": "execute_result",
          "data": {
            "text/plain": [
              "('ted_en-20160408.xml', <http.client.HTTPMessage at 0x7e624bd8aec0>)"
            ]
          },
          "metadata": {},
          "execution_count": 10
        }
      ]
    },
    {
      "cell_type": "code",
      "source": [
        "#해당 파일 전처리\n",
        "\n",
        "targetXML = open('ted_en-20160408.xml', 'r', encoding='UTF8')\n",
        "target_text = etree.parse(targetXML)\n",
        "\n",
        "# xml 파일로부터 <content>와 </content> 사이의 내용만 가져온다.\n",
        "parse_text = '\\n'.join(target_text.xpath('//content/text()'))\n",
        "\n",
        "# 정규 표현식의 sub 모듈을 통해 content 중간에 등장하는 (Audio), (Laughter) 등의 배경음 부분을 제거.\n",
        "# 해당 코드는 괄호로 구성된 내용을 제거.\n",
        "content_text = re.sub(r'\\([^)]*\\)', '', parse_text)\n",
        "\n",
        "# 입력 코퍼스에 대해서 NLTK를 이용하여 문장 토큰화를 수행.\n",
        "sent_text = sent_tokenize(content_text)\n",
        "\n",
        "# 각 문장에 대해서 구두점을 제거하고, 대문자를 소문자로 변환.\n",
        "normalized_text = []\n",
        "for string in sent_text:\n",
        "     tokens = re.sub(r\"[^a-z0-9]+\", \" \", string.lower())\n",
        "     normalized_text.append(tokens)\n",
        "\n",
        "# 각 문장에 대해서 NLTK를 이용하여 단어 토큰화를 수행.\n",
        "result = [word_tokenize(sentence) for sentence in normalized_text]\n"
      ],
      "metadata": {
        "id": "VU4ERj5_b-5B"
      },
      "execution_count": 11,
      "outputs": []
    },
    {
      "cell_type": "code",
      "source": [
        "print('총 샘플의 갯수 : {}'.format(len(result)))"
      ],
      "metadata": {
        "id": "9zTdF1pRckXV",
        "outputId": "9feca19e-6cba-4b84-c0a5-7c4b429955ec",
        "colab": {
          "base_uri": "https://localhost:8080/"
        }
      },
      "execution_count": 12,
      "outputs": [
        {
          "output_type": "stream",
          "name": "stdout",
          "text": [
            "총 샘플의 갯수 : 273424\n"
          ]
        }
      ]
    },
    {
      "cell_type": "code",
      "source": [
        "for line in result[:3]:\n",
        "  print(line)"
      ],
      "metadata": {
        "id": "YN7OJ8sEcxAt",
        "outputId": "9d557ddf-59e1-4814-889f-2bac92902485",
        "colab": {
          "base_uri": "https://localhost:8080/"
        }
      },
      "execution_count": 13,
      "outputs": [
        {
          "output_type": "stream",
          "name": "stdout",
          "text": [
            "['here', 'are', 'two', 'reasons', 'companies', 'fail', 'they', 'only', 'do', 'more', 'of', 'the', 'same', 'or', 'they', 'only', 'do', 'what', 's', 'new']\n",
            "['to', 'me', 'the', 'real', 'real', 'solution', 'to', 'quality', 'growth', 'is', 'figuring', 'out', 'the', 'balance', 'between', 'two', 'activities', 'exploration', 'and', 'exploitation']\n",
            "['both', 'are', 'necessary', 'but', 'it', 'can', 'be', 'too', 'much', 'of', 'a', 'good', 'thing']\n"
          ]
        }
      ]
    },
    {
      "cell_type": "code",
      "source": [
        "from gensim.models import Word2Vec\n",
        "from gensim.models import KeyedVectors\n",
        "\n",
        "model = Word2Vec(sentences=result, vector_size=100, window=5, min_count=5, workers=4, sg=0)"
      ],
      "metadata": {
        "id": "BDpXQnXIc09H"
      },
      "execution_count": 14,
      "outputs": []
    },
    {
      "cell_type": "markdown",
      "source": [
        "![image.png](data:image/png;base64,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)\n"
      ],
      "metadata": {
        "id": "6_UuqJU4gDc5"
      }
    },
    {
      "cell_type": "code",
      "source": [
        "#가장 유사한 단어 찾기\n",
        "model_result = model.wv.most_similar('man')\n",
        "print(model_result)"
      ],
      "metadata": {
        "id": "403QeuPogHwB",
        "outputId": "e4fe97f9-0266-44a1-f2da-a594526d57e4",
        "colab": {
          "base_uri": "https://localhost:8080/"
        }
      },
      "execution_count": 15,
      "outputs": [
        {
          "output_type": "stream",
          "name": "stdout",
          "text": [
            "[('woman', 0.8444675207138062), ('guy', 0.8227318525314331), ('boy', 0.7787885665893555), ('lady', 0.7781490683555603), ('girl', 0.759558379650116), ('soldier', 0.7226320505142212), ('gentleman', 0.7142181396484375), ('kid', 0.6984475255012512), ('david', 0.6732662916183472), ('poet', 0.6686967611312866)]\n"
          ]
        }
      ]
    },
    {
      "cell_type": "code",
      "source": [
        "model.wv.save_word2vec_format('eng_w2v') #모델 저장\n",
        "loaded_model = KeyedVectors.load_word2vec_format('eng_w2v') #모델 로드하기"
      ],
      "metadata": {
        "id": "3cS07-x4gafB"
      },
      "execution_count": 18,
      "outputs": []
    },
    {
      "cell_type": "code",
      "source": [
        "model_result = loaded_model.most_similar('man')\n",
        "print(model_result)"
      ],
      "metadata": {
        "id": "Kb6d-CEkgqW7",
        "outputId": "5469a38f-21dd-498d-bfb2-b1fb79c2349f",
        "colab": {
          "base_uri": "https://localhost:8080/"
        }
      },
      "execution_count": 19,
      "outputs": [
        {
          "output_type": "stream",
          "name": "stdout",
          "text": [
            "[('woman', 0.8444675207138062), ('guy', 0.8227318525314331), ('boy', 0.7787885665893555), ('lady', 0.7781490683555603), ('girl', 0.759558379650116), ('soldier', 0.7226320505142212), ('gentleman', 0.7142181396484375), ('kid', 0.6984475255012512), ('david', 0.6732662916183472), ('poet', 0.6686967611312866)]\n"
          ]
        }
      ]
    },
    {
      "cell_type": "code",
      "source": [
        "import pandas as pd\n",
        "import matplotlib.pyplot as plt\n",
        "import urllib.request\n",
        "from gensim.models.word2vec import Word2Vec\n",
        "from konlpy.tag import Okt"
      ],
      "metadata": {
        "id": "GrDTZlgQguHA"
      },
      "execution_count": 43,
      "outputs": []
    },
    {
      "cell_type": "code",
      "source": [
        "urllib.request.urlretrieve(\"https://raw.githubusercontent.com/e9t/nsmc/master/ratings.txt\", filename=\"ratings.txt\")\n"
      ],
      "metadata": {
        "id": "YAa5VYHag6M-",
        "outputId": "5016b4d8-ee60-4d2d-bf46-c6deecd1e5e1",
        "colab": {
          "base_uri": "https://localhost:8080/"
        }
      },
      "execution_count": 23,
      "outputs": [
        {
          "output_type": "execute_result",
          "data": {
            "text/plain": [
              "('ratings.txt', <http.client.HTTPMessage at 0x7e626a585990>)"
            ]
          },
          "metadata": {},
          "execution_count": 23
        }
      ]
    },
    {
      "cell_type": "code",
      "source": [
        "train_data = pd.read_table('ratings.txt')\n",
        "train_data[:5] #상위 5개 출력"
      ],
      "metadata": {
        "id": "MjtfGkArhETP",
        "outputId": "ddc82e5b-0471-4c3d-e167-dfe19c23e3a9",
        "colab": {
          "base_uri": "https://localhost:8080/",
          "height": 206
        }
      },
      "execution_count": 24,
      "outputs": [
        {
          "output_type": "execute_result",
          "data": {
            "text/plain": [
              "         id                                           document  label\n",
              "0   8112052                                어릴때보고 지금다시봐도 재밌어요ㅋㅋ      1\n",
              "1   8132799  디자인을 배우는 학생으로, 외국디자이너와 그들이 일군 전통을 통해 발전해가는 문화산...      1\n",
              "2   4655635               폴리스스토리 시리즈는 1부터 뉴까지 버릴께 하나도 없음.. 최고.      1\n",
              "3   9251303  와.. 연기가 진짜 개쩔구나.. 지루할거라고 생각했는데 몰입해서 봤다.. 그래 이런...      1\n",
              "4  10067386                        안개 자욱한 밤하늘에 떠 있는 초승달 같은 영화.      1"
            ],
            "text/html": [
              "\n",
              "\n",
              "  <div id=\"df-544cff67-4050-416a-bf04-637889ab1f96\">\n",
              "    <div class=\"colab-df-container\">\n",
              "      <div>\n",
              "<style scoped>\n",
              "    .dataframe tbody tr th:only-of-type {\n",
              "        vertical-align: middle;\n",
              "    }\n",
              "\n",
              "    .dataframe tbody tr th {\n",
              "        vertical-align: top;\n",
              "    }\n",
              "\n",
              "    .dataframe thead th {\n",
              "        text-align: right;\n",
              "    }\n",
              "</style>\n",
              "<table border=\"1\" class=\"dataframe\">\n",
              "  <thead>\n",
              "    <tr style=\"text-align: right;\">\n",
              "      <th></th>\n",
              "      <th>id</th>\n",
              "      <th>document</th>\n",
              "      <th>label</th>\n",
              "    </tr>\n",
              "  </thead>\n",
              "  <tbody>\n",
              "    <tr>\n",
              "      <th>0</th>\n",
              "      <td>8112052</td>\n",
              "      <td>어릴때보고 지금다시봐도 재밌어요ㅋㅋ</td>\n",
              "      <td>1</td>\n",
              "    </tr>\n",
              "    <tr>\n",
              "      <th>1</th>\n",
              "      <td>8132799</td>\n",
              "      <td>디자인을 배우는 학생으로, 외국디자이너와 그들이 일군 전통을 통해 발전해가는 문화산...</td>\n",
              "      <td>1</td>\n",
              "    </tr>\n",
              "    <tr>\n",
              "      <th>2</th>\n",
              "      <td>4655635</td>\n",
              "      <td>폴리스스토리 시리즈는 1부터 뉴까지 버릴께 하나도 없음.. 최고.</td>\n",
              "      <td>1</td>\n",
              "    </tr>\n",
              "    <tr>\n",
              "      <th>3</th>\n",
              "      <td>9251303</td>\n",
              "      <td>와.. 연기가 진짜 개쩔구나.. 지루할거라고 생각했는데 몰입해서 봤다.. 그래 이런...</td>\n",
              "      <td>1</td>\n",
              "    </tr>\n",
              "    <tr>\n",
              "      <th>4</th>\n",
              "      <td>10067386</td>\n",
              "      <td>안개 자욱한 밤하늘에 떠 있는 초승달 같은 영화.</td>\n",
              "      <td>1</td>\n",
              "    </tr>\n",
              "  </tbody>\n",
              "</table>\n",
              "</div>\n",
              "      <button class=\"colab-df-convert\" onclick=\"convertToInteractive('df-544cff67-4050-416a-bf04-637889ab1f96')\"\n",
              "              title=\"Convert this dataframe to an interactive table.\"\n",
              "              style=\"display:none;\">\n",
              "\n",
              "  <svg xmlns=\"http://www.w3.org/2000/svg\" height=\"24px\"viewBox=\"0 0 24 24\"\n",
              "       width=\"24px\">\n",
              "    <path d=\"M0 0h24v24H0V0z\" fill=\"none\"/>\n",
              "    <path d=\"M18.56 5.44l.94 2.06.94-2.06 2.06-.94-2.06-.94-.94-2.06-.94 2.06-2.06.94zm-11 1L8.5 8.5l.94-2.06 2.06-.94-2.06-.94L8.5 2.5l-.94 2.06-2.06.94zm10 10l.94 2.06.94-2.06 2.06-.94-2.06-.94-.94-2.06-.94 2.06-2.06.94z\"/><path d=\"M17.41 7.96l-1.37-1.37c-.4-.4-.92-.59-1.43-.59-.52 0-1.04.2-1.43.59L10.3 9.45l-7.72 7.72c-.78.78-.78 2.05 0 2.83L4 21.41c.39.39.9.59 1.41.59.51 0 1.02-.2 1.41-.59l7.78-7.78 2.81-2.81c.8-.78.8-2.07 0-2.86zM5.41 20L4 18.59l7.72-7.72 1.47 1.35L5.41 20z\"/>\n",
              "  </svg>\n",
              "      </button>\n",
              "\n",
              "\n",
              "\n",
              "    <div id=\"df-de1d5ef5-41a9-45f3-a7e4-1e056a481e06\">\n",
              "      <button class=\"colab-df-quickchart\" onclick=\"quickchart('df-de1d5ef5-41a9-45f3-a7e4-1e056a481e06')\"\n",
              "              title=\"Suggest charts.\"\n",
              "              style=\"display:none;\">\n",
              "\n",
              "<svg xmlns=\"http://www.w3.org/2000/svg\" height=\"24px\"viewBox=\"0 0 24 24\"\n",
              "     width=\"24px\">\n",
              "    <g>\n",
              "        <path d=\"M19 3H5c-1.1 0-2 .9-2 2v14c0 1.1.9 2 2 2h14c1.1 0 2-.9 2-2V5c0-1.1-.9-2-2-2zM9 17H7v-7h2v7zm4 0h-2V7h2v10zm4 0h-2v-4h2v4z\"/>\n",
              "    </g>\n",
              "</svg>\n",
              "      </button>\n",
              "    </div>\n",
              "\n",
              "<style>\n",
              "  .colab-df-quickchart {\n",
              "    background-color: #E8F0FE;\n",
              "    border: none;\n",
              "    border-radius: 50%;\n",
              "    cursor: pointer;\n",
              "    display: none;\n",
              "    fill: #1967D2;\n",
              "    height: 32px;\n",
              "    padding: 0 0 0 0;\n",
              "    width: 32px;\n",
              "  }\n",
              "\n",
              "  .colab-df-quickchart:hover {\n",
              "    background-color: #E2EBFA;\n",
              "    box-shadow: 0px 1px 2px rgba(60, 64, 67, 0.3), 0px 1px 3px 1px rgba(60, 64, 67, 0.15);\n",
              "    fill: #174EA6;\n",
              "  }\n",
              "\n",
              "  [theme=dark] .colab-df-quickchart {\n",
              "    background-color: #3B4455;\n",
              "    fill: #D2E3FC;\n",
              "  }\n",
              "\n",
              "  [theme=dark] .colab-df-quickchart:hover {\n",
              "    background-color: #434B5C;\n",
              "    box-shadow: 0px 1px 3px 1px rgba(0, 0, 0, 0.15);\n",
              "    filter: drop-shadow(0px 1px 2px rgba(0, 0, 0, 0.3));\n",
              "    fill: #FFFFFF;\n",
              "  }\n",
              "</style>\n",
              "\n",
              "    <script>\n",
              "      async function quickchart(key) {\n",
              "        const containerElement = document.querySelector('#' + key);\n",
              "        const charts = await google.colab.kernel.invokeFunction(\n",
              "            'suggestCharts', [key], {});\n",
              "      }\n",
              "    </script>\n",
              "\n",
              "\n",
              "      <script>\n",
              "\n",
              "function displayQuickchartButton(domScope) {\n",
              "  let quickchartButtonEl =\n",
              "    domScope.querySelector('#df-de1d5ef5-41a9-45f3-a7e4-1e056a481e06 button.colab-df-quickchart');\n",
              "  quickchartButtonEl.style.display =\n",
              "    google.colab.kernel.accessAllowed ? 'block' : 'none';\n",
              "}\n",
              "\n",
              "        displayQuickchartButton(document);\n",
              "      </script>\n",
              "      <style>\n",
              "    .colab-df-container {\n",
              "      display:flex;\n",
              "      flex-wrap:wrap;\n",
              "      gap: 12px;\n",
              "    }\n",
              "\n",
              "    .colab-df-convert {\n",
              "      background-color: #E8F0FE;\n",
              "      border: none;\n",
              "      border-radius: 50%;\n",
              "      cursor: pointer;\n",
              "      display: none;\n",
              "      fill: #1967D2;\n",
              "      height: 32px;\n",
              "      padding: 0 0 0 0;\n",
              "      width: 32px;\n",
              "    }\n",
              "\n",
              "    .colab-df-convert:hover {\n",
              "      background-color: #E2EBFA;\n",
              "      box-shadow: 0px 1px 2px rgba(60, 64, 67, 0.3), 0px 1px 3px 1px rgba(60, 64, 67, 0.15);\n",
              "      fill: #174EA6;\n",
              "    }\n",
              "\n",
              "    [theme=dark] .colab-df-convert {\n",
              "      background-color: #3B4455;\n",
              "      fill: #D2E3FC;\n",
              "    }\n",
              "\n",
              "    [theme=dark] .colab-df-convert:hover {\n",
              "      background-color: #434B5C;\n",
              "      box-shadow: 0px 1px 3px 1px rgba(0, 0, 0, 0.15);\n",
              "      filter: drop-shadow(0px 1px 2px rgba(0, 0, 0, 0.3));\n",
              "      fill: #FFFFFF;\n",
              "    }\n",
              "  </style>\n",
              "\n",
              "      <script>\n",
              "        const buttonEl =\n",
              "          document.querySelector('#df-544cff67-4050-416a-bf04-637889ab1f96 button.colab-df-convert');\n",
              "        buttonEl.style.display =\n",
              "          google.colab.kernel.accessAllowed ? 'block' : 'none';\n",
              "\n",
              "        async function convertToInteractive(key) {\n",
              "          const element = document.querySelector('#df-544cff67-4050-416a-bf04-637889ab1f96');\n",
              "          const dataTable =\n",
              "            await google.colab.kernel.invokeFunction('convertToInteractive',\n",
              "                                                     [key], {});\n",
              "          if (!dataTable) return;\n",
              "\n",
              "          const docLinkHtml = 'Like what you see? Visit the ' +\n",
              "            '<a target=\"_blank\" href=https://colab.research.google.com/notebooks/data_table.ipynb>data table notebook</a>'\n",
              "            + ' to learn more about interactive tables.';\n",
              "          element.innerHTML = '';\n",
              "          dataTable['output_type'] = 'display_data';\n",
              "          await google.colab.output.renderOutput(dataTable, element);\n",
              "          const docLink = document.createElement('div');\n",
              "          docLink.innerHTML = docLinkHtml;\n",
              "          element.appendChild(docLink);\n",
              "        }\n",
              "      </script>\n",
              "    </div>\n",
              "  </div>\n"
            ]
          },
          "metadata": {},
          "execution_count": 24
        }
      ]
    },
    {
      "cell_type": "code",
      "source": [
        "print(len(train_data))"
      ],
      "metadata": {
        "id": "G4X2GEWchNGT",
        "outputId": "0a30ae51-28e8-4161-bdea-98d0b0b6c779",
        "colab": {
          "base_uri": "https://localhost:8080/"
        }
      },
      "execution_count": 25,
      "outputs": [
        {
          "output_type": "stream",
          "name": "stdout",
          "text": [
            "200000\n"
          ]
        }
      ]
    },
    {
      "cell_type": "code",
      "source": [
        "print(train_data.isnull().values.any())"
      ],
      "metadata": {
        "id": "eApRrttZhR2t",
        "outputId": "7b095d69-a1ab-494a-da78-47d248c4e5cb",
        "colab": {
          "base_uri": "https://localhost:8080/"
        }
      },
      "execution_count": 26,
      "outputs": [
        {
          "output_type": "stream",
          "name": "stdout",
          "text": [
            "True\n"
          ]
        }
      ]
    },
    {
      "cell_type": "code",
      "source": [
        "# null값 존재하므로 null값 제거\n",
        "train_data = train_data.dropna(how = 'any') # null값 존재하는 행을 모두 제거\n",
        "print(train_data.isnull().values.any())"
      ],
      "metadata": {
        "id": "XVnBuNHHhWJX",
        "outputId": "1d74dee6-1d6d-44e7-cdd0-4d415b9105d6",
        "colab": {
          "base_uri": "https://localhost:8080/"
        }
      },
      "execution_count": 27,
      "outputs": [
        {
          "output_type": "stream",
          "name": "stdout",
          "text": [
            "False\n"
          ]
        }
      ]
    },
    {
      "cell_type": "code",
      "source": [
        "train_data['document'] = train_data['document'].str.replace(\"[^ㄱ-ㅎㅏ-ㅣ가-힣 ]\",\"\")"
      ],
      "metadata": {
        "id": "A4Mx6ybbhhgc",
        "outputId": "3430e3f4-1ec6-4242-ce90-f77ff704ddbf",
        "colab": {
          "base_uri": "https://localhost:8080/"
        }
      },
      "execution_count": 29,
      "outputs": [
        {
          "output_type": "stream",
          "name": "stderr",
          "text": [
            "<ipython-input-29-6948268dad63>:1: FutureWarning: The default value of regex will change from True to False in a future version.\n",
            "  train_data['document'] = train_data['document'].str.replace(\"[^ㄱ-ㅎㅏ-ㅣ가-힣 ]\",\"\")\n"
          ]
        }
      ]
    },
    {
      "cell_type": "code",
      "source": [
        "from tqdm import tqdm"
      ],
      "metadata": {
        "id": "0nQV0BWkjNNe"
      },
      "execution_count": 40,
      "outputs": []
    },
    {
      "cell_type": "code",
      "source": [
        "# 불용어 제거\n",
        "\n",
        "stopwords = ['의','가','이','은','들','는','좀','잘','걍','과','도','를','으로','자','에','와','한','하다']\n",
        "okt = Okt()\n",
        "tokenized_data = []\n",
        "for sentence in tqdm(train_data['document']):\n",
        "  tokenized_sentence = okt.morphs(sentence, stem=True)\n",
        "  stopwords_removed_sentence = [word for word in tokenized_sentence if not word in stopwords] #불용어 제거\n",
        "  tokenized_data.append(stopwords_removed_sentence)"
      ],
      "metadata": {
        "id": "XAaBfVUMibb2",
        "outputId": "97fc011a-aa7b-4b89-9be5-cc3f2efb124b",
        "colab": {
          "base_uri": "https://localhost:8080/"
        }
      },
      "execution_count": 42,
      "outputs": [
        {
          "output_type": "stream",
          "name": "stderr",
          "text": [
            "100%|██████████| 199992/199992 [07:55<00:00, 420.34it/s]\n"
          ]
        }
      ]
    },
    {
      "cell_type": "code",
      "source": [
        "print('리뷰의 최대 길이 : ', max(len(review) for review in tokenized_data))\n",
        "print('리뷰의 평균 길이 : ', sum(map(len, tokenized_data)) / len(tokenized_data))\n",
        "plt.hist([len(review) for review in tokenized_data], bins = 50)\n",
        "plt.xlabel('length of samples')\n",
        "plt.ylabel('number of samples')\n",
        "plt.show()"
      ],
      "metadata": {
        "id": "kWQN0V8mlYbU",
        "outputId": "8331accf-a5a8-4c95-b5b3-b9fdfe773e69",
        "colab": {
          "base_uri": "https://localhost:8080/",
          "height": 486
        }
      },
      "execution_count": 45,
      "outputs": [
        {
          "output_type": "stream",
          "name": "stdout",
          "text": [
            "리뷰의 최대 길이 :  72\n",
            "리뷰의 평균 길이 :  10.716703668146726\n"
          ]
        },
        {
          "output_type": "display_data",
          "data": {
            "text/plain": [
              "<Figure size 640x480 with 1 Axes>"
            ],
            "image/png": "[encoded data removed]"
          },
          "metadata": {}
        }
      ]
    },
    {
      "cell_type": "code",
      "source": [
        "from gensim.models import Word2Vec\n",
        "\n",
        "model = Word2Vec(sentences = tokenized_data, vector_size = 100, window = 5, min_count = 5, workers = 4, sg = 0)"
      ],
      "metadata": {
        "id": "zlpKH0kDmN5C"
      },
      "execution_count": 46,
      "outputs": []
    },
    {
      "cell_type": "code",
      "source": [
        "model.wv.vectors.shape"
      ],
      "metadata": {
        "id": "hGz_Uh1Llw1A",
        "outputId": "ab475319-fe09-49ff-909f-62c32847b343",
        "colab": {
          "base_uri": "https://localhost:8080/"
        }
      },
      "execution_count": 47,
      "outputs": [
        {
          "output_type": "execute_result",
          "data": {
            "text/plain": [
              "(16477, 100)"
            ]
          },
          "metadata": {},
          "execution_count": 47
        }
      ]
    },
    {
      "cell_type": "code",
      "source": [
        "print(model.wv.most_similar('최민식'))"
      ],
      "metadata": {
        "id": "6jDYCsk-mbjm",
        "outputId": "273e6c9e-06e4-4bc0-f59b-bcccba0034fb",
        "colab": {
          "base_uri": "https://localhost:8080/"
        }
      },
      "execution_count": 48,
      "outputs": [
        {
          "output_type": "stream",
          "name": "stdout",
          "text": [
            "[('안성기', 0.8670523762702942), ('김명민', 0.8575130701065063), ('송강호', 0.8513278365135193), ('김갑수', 0.850092887878418), ('최민수', 0.8480435013771057), ('미스캐스팅', 0.8476690053939819), ('정재영', 0.8442845940589905), ('설경구', 0.8374086618423462), ('김승우', 0.835602343082428), ('서영희', 0.8298814296722412)]\n"
          ]
        }
      ]
    },
    {
      "cell_type": "code",
      "source": [
        "print(model.wv.most_similar('히어로'))"
      ],
      "metadata": {
        "id": "cGfA8sCTmmpZ",
        "outputId": "26999858-6d65-45c8-dd57-763aeb78fa1b",
        "colab": {
          "base_uri": "https://localhost:8080/"
        }
      },
      "execution_count": 49,
      "outputs": [
        {
          "output_type": "stream",
          "name": "stdout",
          "text": [
            "[('슬래셔', 0.8828203082084656), ('호러', 0.8636288642883301), ('무협', 0.8461466431617737), ('느와르', 0.8412711024284363), ('물', 0.8329458832740784), ('정통', 0.8252924084663391), ('물의', 0.8125156164169312), ('블록버스터', 0.8068121671676636), ('무비', 0.7932773232460022), ('고어', 0.772662341594696)]\n"
          ]
        }
      ]
    }
  ]
}